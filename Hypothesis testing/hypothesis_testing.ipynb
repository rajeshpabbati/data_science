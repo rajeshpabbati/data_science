{
 "cells": [
  {
   "cell_type": "markdown",
   "id": "f1181b81-4402-496e-bd54-036ac947af10",
   "metadata": {},
   "source": [
    "# 1. State the Hypotheses statement:\n",
    "Null Hypothesis (H0): The actual weekly operating cost is equal to the theoretical weekly operating cost.\n",
    "\n",
    "H0 : μ = μ0\n",
    "\n",
    "Alternative Hypothesis (H1): The actual weekly operating cost is higher than the theoretical weekly operating cost.\n",
    "\n",
    "H1 : μ > μ0"
   ]
  },
  {
   "cell_type": "markdown",
   "id": "698af91c-096c-4341-91c7-f129e6d4a0a6",
   "metadata": {},
   "source": [
    "# 2. Calculate the Test Statistic:"
   ]
  },
  {
   "cell_type": "code",
   "execution_count": 8,
   "id": "99f89004-a9f9-4982-9c96-3b6d2e900785",
   "metadata": {},
   "outputs": [
    {
     "data": {
      "text/plain": [
       "-38.0"
      ]
     },
     "execution_count": 8,
     "metadata": {},
     "output_type": "execute_result"
    }
   ],
   "source": [
    "import math\n",
    "\n",
    "# Given values\n",
    "x_bar = 3050\n",
    "mu_0 = 4000\n",
    "sigma = 125\n",
    "n = 25\n",
    "\n",
    "# Calculate the test statistic\n",
    "t = (x_bar - mu_0) / (sigma / math.sqrt(n))\n",
    "t"
   ]
  },
  {
   "cell_type": "markdown",
   "id": "f176f2b2-d4be-4284-944c-5e73e2be00e2",
   "metadata": {},
   "source": [
    "# 3. Determine the Critical Value:"
   ]
  },
  {
   "cell_type": "code",
   "execution_count": 13,
   "id": "f29943f1-e91f-470f-b683-be47165ae069",
   "metadata": {},
   "outputs": [
    {
     "data": {
      "text/plain": [
       "1.6448536269514722"
      ]
     },
     "execution_count": 13,
     "metadata": {},
     "output_type": "execute_result"
    }
   ],
   "source": [
    "from scipy.stats import norm\n",
    "\n",
    "alpha = 0.05\n",
    "z_critical = norm.ppf(1 - alpha)\n",
    "z_critical"
   ]
  },
  {
   "cell_type": "markdown",
   "id": "ddfe6d14-7ffe-438e-b3e4-e33d65762fed",
   "metadata": {},
   "source": [
    "# 4. Make a Decision:"
   ]
  },
  {
   "cell_type": "code",
   "execution_count": 18,
   "id": "a2c027a6-8d3a-4c63-b179-446a1e3b8864",
   "metadata": {},
   "outputs": [
    {
     "data": {
      "text/plain": [
       "False"
      ]
     },
     "execution_count": 18,
     "metadata": {},
     "output_type": "execute_result"
    }
   ],
   "source": [
    "t > z_critical"
   ]
  },
  {
   "cell_type": "markdown",
   "id": "d5092dea-5b51-40f7-88fe-5617494b9a5c",
   "metadata": {},
   "source": [
    "# 5. Conclusion:"
   ]
  },
  {
   "cell_type": "code",
   "execution_count": null,
   "id": "5ab7ec51-7a4c-45a8-9636-cc94f679a201",
   "metadata": {},
   "outputs": [],
   "source": []
  }
 ],
 "metadata": {
  "kernelspec": {
   "display_name": "Python 3 (ipykernel)",
   "language": "python",
   "name": "python3"
  },
  "language_info": {
   "codemirror_mode": {
    "name": "ipython",
    "version": 3
   },
   "file_extension": ".py",
   "mimetype": "text/x-python",
   "name": "python",
   "nbconvert_exporter": "python",
   "pygments_lexer": "ipython3",
   "version": "3.11.7"
  }
 },
 "nbformat": 4,
 "nbformat_minor": 5
}
