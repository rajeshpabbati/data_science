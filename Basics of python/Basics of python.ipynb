{
 "cells": [
  {
   "cell_type": "markdown",
   "id": "c08ec6ac",
   "metadata": {},
   "source": [
    "# Exercise 1: Prime Numbers"
   ]
  },
  {
   "cell_type": "code",
   "execution_count": 1,
   "id": "248da4cf",
   "metadata": {},
   "outputs": [],
   "source": [
    "# Write a Python program that checks whether a given number is prime or not. A prime number is a natural number greater than 1\n",
    "# that has no positive divisors other than 1 and itself."
   ]
  },
  {
   "cell_type": "code",
   "execution_count": 2,
   "id": "ee5fcd36",
   "metadata": {},
   "outputs": [
    {
     "name": "stdout",
     "output_type": "stream",
     "text": [
      "Enter the number: 2\n",
      "Given number 2 is prime number\n"
     ]
    }
   ],
   "source": [
    "number = int(input(\"Enter the number: \")) # Taking user input\n",
    "if number < 2: # Checking condition any number less than is not a prime number\n",
    "    print(f\"Given number {number} is not a prime number\") # Print the if condition is true\n",
    "else: # if user input number is greater than or equal to 2\n",
    "    count = 0 # Initialize count can be user later in the code\n",
    "    for i in range(2, number): # iterating excluding 1 and user input number\n",
    "        if number % i == 0: # checking if number divided by any number between 1 and number\n",
    "            count += 1 # if number is divided by anynumber other than 1 and itself increment count\n",
    "    if count < 1 and number > 1: # count should be less than 1 and number to greater than 1\n",
    "        print(f\"Given number {number} is prime number\") # print prime number\n",
    "    else:\n",
    "        print(f\"Given number {number} is not a prime number\") # print not a prime number"
   ]
  },
  {
   "cell_type": "markdown",
   "id": "d334b5ef",
   "metadata": {},
   "source": [
    "# Exercise 2: Product of Random Numbers"
   ]
  },
  {
   "cell_type": "code",
   "execution_count": 3,
   "id": "23121017",
   "metadata": {},
   "outputs": [],
   "source": [
    "# Develop a Python program that generates two random numbers and asks the user to enter the product of these numbers.\n",
    "# The program should then check if the user's answer is correct and display an appropriate message."
   ]
  },
  {
   "cell_type": "code",
   "execution_count": 4,
   "id": "0ae33b00",
   "metadata": {},
   "outputs": [
    {
     "name": "stdout",
     "output_type": "stream",
     "text": [
      "First random interger 88\n",
      "Second random interger 65\n",
      "Enter the product of 2 random numbers: 123\n",
      "User's answer 123, System answer 5720. So user's answer is wrong\n"
     ]
    }
   ],
   "source": [
    "import random # import random to generate random number\n",
    "random_interger_one = random.randint(1,100) # generte first random number and store in variable\n",
    "random_interger_two = random.randint(1,100) # generate second random number and store in variable\n",
    "print(f\"First random interger {random_interger_one}\") # Print to see the number\n",
    "print(f\"Second random interger {random_interger_two}\") # Print to see the number\n",
    "user_input_product = int(input(\"Enter the product of 2 random numbers: \")) # enter the product of 2 numbers\n",
    "system_input_product = random_interger_one * random_interger_two # calculate the product of 2 numbers\n",
    "if user_input_product == system_input_product: # check if user enter product and calculated product same or not\n",
    "    print(f\"User's answer {user_input_product}, System answer {system_input_product}. So user's answer is correct\")# print message\n",
    "else:\n",
    "    print(f\"User's answer {user_input_product}, System answer {system_input_product}. So user's answer is wrong\") # print message"
   ]
  },
  {
   "cell_type": "markdown",
   "id": "69c7a74c",
   "metadata": {},
   "source": [
    "# Exercise 3: Squares of Even/Odd Numbers"
   ]
  },
  {
   "cell_type": "code",
   "execution_count": 5,
   "id": "ec1c2990",
   "metadata": {},
   "outputs": [],
   "source": [
    "# Create a Python script that prints the squares of all even or odd numbers within the range of 100 to 200.\n",
    "# Choose either even or odd numbers and document your choice in the code."
   ]
  },
  {
   "cell_type": "code",
   "execution_count": 6,
   "id": "0681282d",
   "metadata": {},
   "outputs": [
    {
     "name": "stdout",
     "output_type": "stream",
     "text": [
      "10201\n",
      "10609\n",
      "11025\n",
      "11449\n",
      "11881\n",
      "12321\n",
      "12769\n",
      "13225\n",
      "13689\n",
      "14161\n",
      "14641\n",
      "15129\n",
      "15625\n",
      "16129\n",
      "16641\n",
      "17161\n",
      "17689\n",
      "18225\n",
      "18769\n",
      "19321\n",
      "19881\n",
      "20449\n",
      "21025\n",
      "21609\n",
      "22201\n",
      "22801\n",
      "23409\n",
      "24025\n",
      "24649\n",
      "25281\n",
      "25921\n",
      "26569\n",
      "27225\n",
      "27889\n",
      "28561\n",
      "29241\n",
      "29929\n",
      "30625\n",
      "31329\n",
      "32041\n",
      "32761\n",
      "33489\n",
      "34225\n",
      "34969\n",
      "35721\n",
      "36481\n",
      "37249\n",
      "38025\n",
      "38809\n",
      "39601\n"
     ]
    }
   ],
   "source": [
    "# Code prints squares of all odd numbers within the range of 100 to 200\n",
    "for i in range(100,201): # iterating between the numbers\n",
    "    if i % 2 != 0: # check if the number is odd or not\n",
    "        print(i*i) # print the squares of all odd numbers"
   ]
  },
  {
   "cell_type": "markdown",
   "id": "45daa001",
   "metadata": {},
   "source": [
    "# Exercise 4: Word counter"
   ]
  },
  {
   "cell_type": "raw",
   "id": "4baab5ae",
   "metadata": {},
   "source": [
    "write a program to count the number of words in a given text.\n",
    "example:\n",
    "input_text = \"This is a sample text. This text will be used to demonstrate the word counter.\"\n",
    "Expected output:\n",
    "'This': 2 \n",
    "'is': 1\n",
    "'a': 1\n",
    "'sample': 1\n",
    "'text.': 1"
   ]
  },
  {
   "cell_type": "code",
   "execution_count": 7,
   "id": "6426c4d7",
   "metadata": {},
   "outputs": [
    {
     "name": "stdout",
     "output_type": "stream",
     "text": [
      "'This' : 2\n",
      "'is' : 1\n",
      "'a' : 1\n",
      "'sample' : 1\n",
      "'text.' : 1\n",
      "'text' : 1\n",
      "'will' : 1\n",
      "'be' : 1\n",
      "'used' : 1\n",
      "'to' : 1\n",
      "'demonstrate' : 1\n",
      "'the' : 1\n",
      "'word' : 1\n",
      "'counter.' : 1\n"
     ]
    }
   ],
   "source": [
    "input_text = \"This is a sample text. This text will be used to demonstrate the word counter.\" # input text\n",
    "words = input_text.split(\" \") # split by space\n",
    "word_count = {} # create emply dictionary\n",
    "for word in words: # iterate through each word\n",
    "    if word in word_count: # if word present then increment value of that word\n",
    "        word_count[word] += 1\n",
    "    else: # if word not found then add 1 to that word\n",
    "        word_count[word] = 1\n",
    "for word, count in word_count.items(): # iterate through dictionay and print the world and count\n",
    "    print(f\"'{word}' : {count}\")"
   ]
  },
  {
   "cell_type": "markdown",
   "id": "9cd28b8b",
   "metadata": {},
   "source": [
    "# Exercise 5: Check for Palindrome"
   ]
  },
  {
   "cell_type": "raw",
   "id": "6e53b014",
   "metadata": {},
   "source": [
    "Write a Python function called is_palindrome that takes a string as input and returns True if the string is a palindrome, and False otherwise. A palindrome is a word, phrase, number, or other sequence of characters that reads the same forward and backward, ignoring spaces, punctuation, and capitalization.\n",
    "Example:\n",
    "Input: \"racecar\"\n",
    "Expected Output: True"
   ]
  },
  {
   "cell_type": "code",
   "execution_count": 8,
   "id": "370182c3",
   "metadata": {},
   "outputs": [
    {
     "name": "stdout",
     "output_type": "stream",
     "text": [
      "True\n",
      "True\n",
      "True\n",
      "False\n",
      "True\n",
      "True\n",
      "False\n"
     ]
    }
   ],
   "source": [
    "def is_palindrome(s): # create fucntion\n",
    "    final = ''.join(char.lower() for char in s if char.isalnum()) # list comprehension isalnum give alphnumerci withou space and\n",
    "                                                                  # punctuations and add to char and lower and finally join all\n",
    "    return final == final[::-1] # checking original string and reverse string same or not\n",
    "print(is_palindrome(\"racecar\"))\n",
    "print(is_palindrome(\"Racecar\"))\n",
    "print(is_palindrome(\"racecar \"))\n",
    "print(is_palindrome(\"racecar123\"))\n",
    "print(is_palindrome(\"racecar#$%^\"))\n",
    "print(is_palindrome(\"121\"))\n",
    "print(is_palindrome(\"Hello\"))"
   ]
  },
  {
   "cell_type": "code",
   "execution_count": null,
   "id": "2a3f89b2",
   "metadata": {},
   "outputs": [],
   "source": []
  }
 ],
 "metadata": {
  "kernelspec": {
   "display_name": "Python 3 (ipykernel)",
   "language": "python",
   "name": "python3"
  },
  "language_info": {
   "codemirror_mode": {
    "name": "ipython",
    "version": 3
   },
   "file_extension": ".py",
   "mimetype": "text/x-python",
   "name": "python",
   "nbconvert_exporter": "python",
   "pygments_lexer": "ipython3",
   "version": "3.11.5"
  }
 },
 "nbformat": 4,
 "nbformat_minor": 5
}
