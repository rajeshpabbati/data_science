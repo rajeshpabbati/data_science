{
 "cells": [
  {
   "cell_type": "markdown",
   "id": "7bb34faf-9d44-49b3-96a9-7abcf14cb36b",
   "metadata": {},
   "source": [
    "# Estimation And Confidence Intervals"
   ]
  },
  {
   "cell_type": "code",
   "execution_count": 24,
   "id": "b1f6c59e-892e-4b25-88c9-30b72a1aa04a",
   "metadata": {},
   "outputs": [],
   "source": [
    "# import necessary libraries\n",
    "import numpy as np\n",
    "from scipy import stats"
   ]
  },
  {
   "cell_type": "code",
   "execution_count": 25,
   "id": "355546ec-253b-488a-b1b9-84cd75b35bff",
   "metadata": {},
   "outputs": [],
   "source": [
    "# read the data\n",
    "data = np.array([1.13, 1.55, 1.43, 0.92, 1.25, 1.36, 1.32, 0.85, 1.07, 1.48, 1.20, 1.33, 1.18, 1.22, 1.29])"
   ]
  },
  {
   "cell_type": "code",
   "execution_count": 26,
   "id": "809f9386-8e5e-4ca0-bf95-8ca2551111c7",
   "metadata": {},
   "outputs": [
    {
     "data": {
      "text/plain": [
       "(0.6831453079923472, 1.7941880253409859)"
      ]
     },
     "execution_count": 26,
     "metadata": {},
     "output_type": "execute_result"
    }
   ],
   "source": [
    "# use t distribution to calculate 99% confidence interval because sample standard deviation is given\n",
    "stats.t.interval(confidence = 0.99, df = len(data) - 1, loc=np.mean(data), scale=np.std(data))"
   ]
  },
  {
   "cell_type": "code",
   "execution_count": 27,
   "id": "6edde7c4-6fb4-445b-a1ef-ec93cf46171f",
   "metadata": {},
   "outputs": [
    {
     "data": {
      "text/plain": [
       "(0.7235008059568865, 1.7538325273764466)"
      ]
     },
     "execution_count": 27,
     "metadata": {},
     "output_type": "execute_result"
    }
   ],
   "source": [
    "# using normal z-distribution because population standard deviation is given\n",
    "stats.norm.interval(confidence = 0.99, loc=np.mean(data), scale=0.2)"
   ]
  },
  {
   "cell_type": "code",
   "execution_count": null,
   "id": "381b85d8-52b6-4300-b8b1-d99d1520944f",
   "metadata": {},
   "outputs": [],
   "source": []
  }
 ],
 "metadata": {
  "kernelspec": {
   "display_name": "Python 3 (ipykernel)",
   "language": "python",
   "name": "python3"
  },
  "language_info": {
   "codemirror_mode": {
    "name": "ipython",
    "version": 3
   },
   "file_extension": ".py",
   "mimetype": "text/x-python",
   "name": "python",
   "nbconvert_exporter": "python",
   "pygments_lexer": "ipython3",
   "version": "3.11.7"
  }
 },
 "nbformat": 4,
 "nbformat_minor": 5
}
